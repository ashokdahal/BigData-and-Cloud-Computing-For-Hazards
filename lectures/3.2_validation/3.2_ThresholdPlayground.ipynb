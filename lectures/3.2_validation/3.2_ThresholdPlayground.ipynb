{
 "cells": [
  {
   "cell_type": "code",
   "execution_count": 73,
   "metadata": {},
   "outputs": [],
   "source": [
    "import os \n",
    "import folium\n",
    "import json\n",
    "import rasterio\n",
    "from rasterio.warp import transform_bounds\n",
    "import geopandas as gpd"
   ]
  },
  {
   "cell_type": "code",
   "execution_count": 78,
   "metadata": {},
   "outputs": [],
   "source": [
    "def read_json(filename: str) -> dict:\n",
    "    with open(filename) as input:\n",
    "        field = json.load(input)\n",
    "    return field\n",
    "aoi = read_json(\"aoi/aoi.geojson\")\n",
    "ndvi_diff = rasterio.open(\"Result/NDVIDiff.tiff\")\n",
    "dem =  rasterio.open(\"Result/DEM.tiff\")\n",
    "inventory_val = gpd.read_file(\"Inventory/landslide_inventory.shp\")\n"
   ]
  },
  {
   "cell_type": "code",
   "execution_count": 75,
   "metadata": {},
   "outputs": [],
   "source": [
    "bounds = transform_bounds(ndvi_diff.crs,'EPSG:4326',*ndvi_diff.bounds)"
   ]
  },
  {
   "cell_type": "code",
   "execution_count": 90,
   "metadata": {},
   "outputs": [],
   "source": [
    "m = folium.Map([42.75, 141.96], zoom_start=11)\n",
    "folium.GeoJson(aoi).add_to(m)\n",
    "\n",
    "tile = folium.TileLayer(\n",
    "      tiles = 'https://server.arcgisonline.com/ArcGIS/rest/services/World_Imagery/MapServer/tile/{z}/{y}/{x}',\n",
    "      attr = 'Esri',\n",
    "      name = 'Esri Satellite',\n",
    "      overlay = False,\n",
    "      control = True\n",
    "      ).add_to(m)\n",
    "\n",
    "\n",
    "folium.raster_layers.ImageOverlay(\n",
    "    image=ndvi_diff.read(1)>0.4,\n",
    "    bounds=[[bounds[1]-0.0002,bounds[0]],[bounds[3],bounds[2]]],\n",
    "#     origin=\"lower\",\n",
    "    colormap=lambda x: (1, 0, 0, x),\n",
    "#     mercator_project=True\n",
    ").add_to(m)\n",
    "\n",
    "folium.GeoJson(\n",
    "    inventory_val.to_crs(epsg=4326).to_json(),\n",
    "    name=\"Vector Overlay\",\n",
    "    style_function=lambda feature: {\n",
    "        'fillColor': '#blue',\n",
    "        'color': 'green',\n",
    "        'weight': 2,\n",
    "        'fillOpacity': 0.5,\n",
    "    }\n",
    ").add_to(m)\n",
    "\n",
    "folium.LayerControl().add_to(m)\n",
    "m"
   ]
  },
  {
   "cell_type": "code",
   "execution_count": 70,
   "metadata": {},
   "outputs": [
    {
     "data": {
      "text/plain": [
       "(141.7708476878404, 42.554214415271076, 142.13551105289486, 42.945729300196376)"
      ]
     },
     "execution_count": 70,
     "metadata": {},
     "output_type": "execute_result"
    }
   ],
   "source": [
    "[[bounds[0],bounds[1]],[bounds[2],bounds[3]]]"
   ]
  },
  {
   "cell_type": "code",
   "execution_count": null,
   "metadata": {},
   "outputs": [],
   "source": []
  }
 ],
 "metadata": {
  "kernelspec": {
   "display_name": "Python 3 (ipykernel)",
   "language": "python",
   "name": "python3"
  },
  "language_info": {
   "codemirror_mode": {
    "name": "ipython",
    "version": 3
   },
   "file_extension": ".py",
   "mimetype": "text/x-python",
   "name": "python",
   "nbconvert_exporter": "python",
   "pygments_lexer": "ipython3",
   "version": "3.12.5"
  }
 },
 "nbformat": 4,
 "nbformat_minor": 2
}
